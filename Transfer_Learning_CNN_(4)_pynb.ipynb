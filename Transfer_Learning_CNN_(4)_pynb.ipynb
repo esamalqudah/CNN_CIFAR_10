{
  "cells": [
    {
      "cell_type": "markdown",
      "metadata": {
        "id": "view-in-github",
        "colab_type": "text"
      },
      "source": [
        "<a href=\"https://colab.research.google.com/github/esamalqudah/CNN_CIFAR_10/blob/main/Transfer_Learning_CNN_(4)_pynb.ipynb\" target=\"_parent\"><img src=\"https://colab.research.google.com/assets/colab-badge.svg\" alt=\"Open In Colab\"/></a>"
      ]
    },
    {
      "cell_type": "markdown",
      "metadata": {
        "id": "RJmJetfEgiuM"
      },
      "source": [
        "## Transfer Learning using MNIST data\n",
        "To demonstrate transfer learning, a CNN will learn to identify digits 5,6,7, 8, and 9 and only the last layer will be trained to identify digits 0,1,2,3, and 4. This will determine how well training on the set 5-9 will help with identifying the set 0-4.\n",
        "\n",
        "\n"
      ]
    },
    {
      "cell_type": "code",
      "execution_count": null,
      "metadata": {
        "id": "00J423kMgiuQ"
      },
      "outputs": [],
      "source": [
        "import datetime\n",
        "import keras\n",
        "from keras.datasets import mnist\n",
        "from keras.models import Sequential\n",
        "from keras.layers import Dense, Dropout, Activation, Flatten\n",
        "from keras.layers import Conv2D, MaxPooling2D\n",
        "from keras import backend as K"
      ]
    },
    {
      "cell_type": "code",
      "execution_count": null,
      "metadata": {
        "collapsed": true,
        "id": "hw1x-XVygiuS"
      },
      "outputs": [],
      "source": [
        "# Used to help timing functions\n",
        "now = datetime.datetime.now"
      ]
    },
    {
      "cell_type": "code",
      "execution_count": null,
      "metadata": {
        "collapsed": true,
        "id": "0niUiqgegiuS"
      },
      "outputs": [],
      "source": [
        "# Set parameters\n",
        "batch_size = 128\n",
        "num_classes = 5\n",
        "epochs = 5"
      ]
    },
    {
      "cell_type": "code",
      "execution_count": null,
      "metadata": {
        "collapsed": true,
        "id": "Hf7EVUSDgiuT"
      },
      "outputs": [],
      "source": [
        "# More parameters\n",
        "img_rows, img_cols = 28, 28\n",
        "filters = 32\n",
        "pool_size = 2\n",
        "kernel_size = 3"
      ]
    },
    {
      "cell_type": "code",
      "execution_count": null,
      "metadata": {
        "collapsed": true,
        "id": "Zx5WyUUBgiuU"
      },
      "outputs": [],
      "source": [
        "## As input, function takes a model, training set, test set, and the number of classes\n",
        "## Inside the model object will be the state about which layers to freeze and which to train\n",
        "# Reshape data\n",
        "# Normalize data\n",
        "# One hot encode the target label\n",
        "# Compile model\n",
        "# Train model on the training data\n",
        "# Evaluate model on the testing data\n",
        "\n",
        "def train_model(model, train, test, num_classes, input_shape):\n",
        "  x_train = train[0].reshape((train[0].shape[0],) + input_shape)\n",
        "  x_test = test[0].reshape((test[0].shape[0],) + input_shape)\n",
        "  x_train = x_train.astype('float32')\n",
        "  x_test = x_test.astype('float32')\n",
        "  x_train /= 255\n",
        "  x_test /= 255\n",
        "  print('x_train shape:', x_train.shape)\n",
        "  print(x_train.shape[0], 'train samples')\n",
        "  print(x_test.shape[0], 'test samples')\n",
        "\n",
        "  #convert class vectors to binary class matrices\n",
        "  y_train = keras.utils.to_categorical(train[1], num_classes)\n",
        "  y_test = keras.utils.to_categorical(test[1], num_classes)\n",
        "\n",
        "  model.compile(loss='categorical_crossentropy',\n",
        "                optimizer='adadelta',\n",
        "                metrics=['accuracy'])\n",
        "\n",
        "  t =now ()\n",
        "  model.fit(x_train, y_train,\n",
        "            batch_size=batch_size,\n",
        "            epochs=epochs,\n",
        "            verbose=1,\n",
        "            validation_data=(x_test,y_test))\n",
        "  print('Training time; %s' % (now() - t))\n",
        "\n",
        "  score = model.evaluate(x_test, y_test, verbose=0)\n",
        "  print('Test score: ',score[0])\n",
        "  print('Test accuracy ', score[1])"
      ]
    },
    {
      "cell_type": "code",
      "execution_count": null,
      "metadata": {
        "collapsed": true,
        "colab": {
          "base_uri": "https://localhost:8080/"
        },
        "id": "KejjIrDygiuV",
        "outputId": "2e80c0db-d1c4-4703-e383-f5c67521512e"
      },
      "outputs": [
        {
          "output_type": "stream",
          "name": "stdout",
          "text": [
            "Downloading data from https://storage.googleapis.com/tensorflow/tf-keras-datasets/mnist.npz\n",
            "11490434/11490434 [==============================] - 0s 0us/step\n"
          ]
        }
      ],
      "source": [
        "# Load the Mnist data and split between train and test sets\n",
        "(x_train, y_train), (x_test, y_test) = mnist.load_data()\n",
        "\n",
        "# Create two datasets: one with digits below 5 and one with 5 and above\n",
        "x_train_lt5 = x_train[y_train < 5]\n",
        "y_train_lt5 = y_train[y_train < 5]\n",
        "x_test_lt5 = x_test[y_test < 5]\n",
        "y_test_lt5 = y_test[y_test < 5]\n",
        "\n",
        "x_train_gte5 = x_train[y_train >= 5]\n",
        "y_train_gte5 = y_train[y_train >= 5] - 5\n",
        "x_test_gte5 = x_test[y_test >= 5]\n",
        "y_test_gte5 = y_test[y_test >= 5] - 5\n"
      ]
    },
    {
      "cell_type": "code",
      "execution_count": null,
      "metadata": {
        "collapsed": true,
        "id": "oe9E01LIgiuW"
      },
      "outputs": [],
      "source": [
        "# Define \"feature\" layers\n",
        "# Add convolution layers\n",
        "# Add max pool layer\n",
        "# Add dropout layer\n",
        "# Add flatten layer\n",
        "# Early layers may transfer, this will be frozen later\n",
        "\n",
        "\n",
        "input_shape = [28,28,1]\n",
        "feature_layers = [\n",
        "    Conv2D(filters, kernel_size,\n",
        "           padding='valid',\n",
        "           input_shape = input_shape),\n",
        "    Activation('relu'),\n",
        "    Conv2D(filters, kernel_size),\n",
        "    Activation('relu'),\n",
        "    MaxPooling2D(pool_size=pool_size),\n",
        "    Dropout(0.25),\n",
        "    Flatten(),\n",
        "\n",
        "]"
      ]
    },
    {
      "cell_type": "code",
      "execution_count": null,
      "metadata": {
        "collapsed": true,
        "id": "ak-TPz0UgiuX"
      },
      "outputs": [],
      "source": [
        "# Define classificaiton layers\n",
        "# Add dense layer\n",
        "# This layer will predict classes from the features learned by previous layer. This part of the model will need to be retrained.\n",
        "\n",
        "classification_layers = [\n",
        "    Dense(128),\n",
        "    Activation('relu'), Dropout(0.5), Dense(num_classes), Activation('softmax')\n",
        "\n",
        "]"
      ]
    },
    {
      "cell_type": "code",
      "execution_count": null,
      "metadata": {
        "collapsed": true,
        "id": "2Xr54zn0giuX"
      },
      "outputs": [],
      "source": [
        "# Create model by combining both layers:\n",
        "model = Sequential(feature_layers + classification_layers)"
      ]
    },
    {
      "cell_type": "code",
      "execution_count": null,
      "metadata": {
        "id": "nm9soRe7giuY",
        "colab": {
          "base_uri": "https://localhost:8080/"
        },
        "outputId": "99d9b05a-4fc7-46c2-c639-009fc689b454"
      },
      "outputs": [
        {
          "output_type": "stream",
          "name": "stdout",
          "text": [
            "Model: \"sequential\"\n",
            "_________________________________________________________________\n",
            " Layer (type)                Output Shape              Param #   \n",
            "=================================================================\n",
            " conv2d_2 (Conv2D)           (None, 26, 26, 32)        320       \n",
            "                                                                 \n",
            " activation_2 (Activation)   (None, 26, 26, 32)        0         \n",
            "                                                                 \n",
            " conv2d_3 (Conv2D)           (None, 24, 24, 32)        9248      \n",
            "                                                                 \n",
            " activation_3 (Activation)   (None, 24, 24, 32)        0         \n",
            "                                                                 \n",
            " max_pooling2d (MaxPooling2D  (None, 12, 12, 32)       0         \n",
            " )                                                               \n",
            "                                                                 \n",
            " dropout (Dropout)           (None, 12, 12, 32)        0         \n",
            "                                                                 \n",
            " flatten (Flatten)           (None, 4608)              0         \n",
            "                                                                 \n",
            " dense (Dense)               (None, 128)               589952    \n",
            "                                                                 \n",
            " activation_4 (Activation)   (None, 128)               0         \n",
            "                                                                 \n",
            " dropout_1 (Dropout)         (None, 128)               0         \n",
            "                                                                 \n",
            " dense_1 (Dense)             (None, 5)                 645       \n",
            "                                                                 \n",
            " activation_5 (Activation)   (None, 5)                 0         \n",
            "                                                                 \n",
            "=================================================================\n",
            "Total params: 600,165\n",
            "Trainable params: 600,165\n",
            "Non-trainable params: 0\n",
            "_________________________________________________________________\n"
          ]
        }
      ],
      "source": [
        "# Print model summary\n",
        "model.summary()"
      ]
    },
    {
      "cell_type": "code",
      "execution_count": null,
      "metadata": {
        "id": "dQkDZX4CgiuY",
        "colab": {
          "base_uri": "https://localhost:8080/"
        },
        "outputId": "b90344ae-8ece-4a45-83b7-c74ed2e0aad3"
      },
      "outputs": [
        {
          "output_type": "stream",
          "name": "stdout",
          "text": [
            "x_train shape: (29404, 28, 28, 1)\n",
            "29404 train samples\n",
            "4861 test samples\n",
            "Epoch 1/5\n",
            "230/230 [==============================] - 67s 286ms/step - loss: 1.6019 - accuracy: 0.2511 - val_loss: 1.5812 - val_accuracy: 0.3571\n",
            "Epoch 2/5\n",
            "230/230 [==============================] - 60s 259ms/step - loss: 1.5740 - accuracy: 0.3056 - val_loss: 1.5473 - val_accuracy: 0.4927\n",
            "Epoch 3/5\n",
            "230/230 [==============================] - 57s 247ms/step - loss: 1.5416 - accuracy: 0.3856 - val_loss: 1.5106 - val_accuracy: 0.6309\n",
            "Epoch 4/5\n",
            "230/230 [==============================] - 56s 246ms/step - loss: 1.5077 - accuracy: 0.4646 - val_loss: 1.4703 - val_accuracy: 0.7264\n",
            "Epoch 5/5\n",
            "230/230 [==============================] - 55s 240ms/step - loss: 1.4714 - accuracy: 0.5182 - val_loss: 1.4261 - val_accuracy: 0.7900\n",
            "Training time; 0:05:23.853652\n",
            "Test score:  1.4260905981063843\n",
            "Test accuracy  0.7899609208106995\n"
          ]
        }
      ],
      "source": [
        "# Train model on the digits 5,6,7,8,9\n",
        "train_model(model, (x_train_gte5, y_train_gte5), (x_test_gte5, y_test_gte5), num_classes, input_shape=(28, 28, 1))\n"
      ]
    },
    {
      "cell_type": "markdown",
      "metadata": {
        "id": "RFQ3FOaggiuZ"
      },
      "source": [
        "### Freeze Layers\n"
      ]
    },
    {
      "cell_type": "code",
      "execution_count": null,
      "metadata": {
        "collapsed": true,
        "id": "KpNBDuEFgiuZ"
      },
      "outputs": [],
      "source": [
        "# Freeze only the feature layers\n",
        "for l in feature_layers:\n",
        "  l.trainable = False"
      ]
    },
    {
      "cell_type": "markdown",
      "metadata": {
        "id": "uCCEziUTgiua"
      },
      "source": [
        "Observe below the differences between the number of *total params*, *trainable params*, and *non-trainable params*."
      ]
    },
    {
      "cell_type": "code",
      "execution_count": null,
      "metadata": {
        "id": "9lBV_rGbgiua",
        "colab": {
          "base_uri": "https://localhost:8080/"
        },
        "outputId": "b11cbd88-95d7-406d-8e29-6f0c9252cd18"
      },
      "outputs": [
        {
          "output_type": "stream",
          "name": "stdout",
          "text": [
            "Model: \"sequential\"\n",
            "_________________________________________________________________\n",
            " Layer (type)                Output Shape              Param #   \n",
            "=================================================================\n",
            " conv2d_2 (Conv2D)           (None, 26, 26, 32)        320       \n",
            "                                                                 \n",
            " activation_2 (Activation)   (None, 26, 26, 32)        0         \n",
            "                                                                 \n",
            " conv2d_3 (Conv2D)           (None, 24, 24, 32)        9248      \n",
            "                                                                 \n",
            " activation_3 (Activation)   (None, 24, 24, 32)        0         \n",
            "                                                                 \n",
            " max_pooling2d (MaxPooling2D  (None, 12, 12, 32)       0         \n",
            " )                                                               \n",
            "                                                                 \n",
            " dropout (Dropout)           (None, 12, 12, 32)        0         \n",
            "                                                                 \n",
            " flatten (Flatten)           (None, 4608)              0         \n",
            "                                                                 \n",
            " dense (Dense)               (None, 128)               589952    \n",
            "                                                                 \n",
            " activation_4 (Activation)   (None, 128)               0         \n",
            "                                                                 \n",
            " dropout_1 (Dropout)         (None, 128)               0         \n",
            "                                                                 \n",
            " dense_1 (Dense)             (None, 5)                 645       \n",
            "                                                                 \n",
            " activation_5 (Activation)   (None, 5)                 0         \n",
            "                                                                 \n",
            "=================================================================\n",
            "Total params: 600,165\n",
            "Trainable params: 590,597\n",
            "Non-trainable params: 9,568\n",
            "_________________________________________________________________\n"
          ]
        }
      ],
      "source": [
        "# print model summary\n",
        "model.summary()"
      ]
    },
    {
      "cell_type": "code",
      "execution_count": null,
      "metadata": {
        "id": "yy-BtW6tgiua",
        "colab": {
          "base_uri": "https://localhost:8080/"
        },
        "outputId": "81207f66-641e-4828-fabd-75369ed73f91"
      },
      "outputs": [
        {
          "output_type": "stream",
          "name": "stdout",
          "text": [
            "x_train shape: (30596, 28, 28, 1)\n",
            "30596 train samples\n",
            "5139 test samples\n",
            "Epoch 1/5\n",
            "240/240 [==============================] - 20s 79ms/step - loss: 1.5579 - accuracy: 0.3169 - val_loss: 1.5163 - val_accuracy: 0.4748\n",
            "Epoch 2/5\n",
            "240/240 [==============================] - 18s 77ms/step - loss: 1.5092 - accuracy: 0.3936 - val_loss: 1.4631 - val_accuracy: 0.5441\n",
            "Epoch 3/5\n",
            "240/240 [==============================] - 19s 79ms/step - loss: 1.4606 - accuracy: 0.4625 - val_loss: 1.4134 - val_accuracy: 0.5972\n",
            "Epoch 4/5\n",
            "240/240 [==============================] - 18s 73ms/step - loss: 1.4159 - accuracy: 0.5186 - val_loss: 1.3649 - val_accuracy: 0.6780\n",
            "Epoch 5/5\n",
            "240/240 [==============================] - 19s 77ms/step - loss: 1.3720 - accuracy: 0.5713 - val_loss: 1.3186 - val_accuracy: 0.7581\n",
            "Training time; 0:02:22.724829\n",
            "Test score:  1.3185744285583496\n",
            "Test accuracy  0.7581241726875305\n"
          ]
        }
      ],
      "source": [
        "# Train model on the digits 0,1,2,3,4\n",
        "train_model(model, (x_train_lt5, y_train_lt5), (x_test_lt5, y_test_lt5), num_classes, input_shape=(28, 28, 1))"
      ]
    },
    {
      "cell_type": "markdown",
      "metadata": {
        "id": "3E6Z3O-Ugiua"
      },
      "source": [
        "Note that results on classifying 0-4 are comparable to those achieved on 5-9 after 5 full epochs.  This is despite the fact that the last layer of the network is only getting fine tuned, and all the early layers have never seen what the digits 0-4 look like.\n",
        "\n"
      ]
    }
  ],
  "metadata": {
    "kernelspec": {
      "display_name": "Python 3",
      "language": "python",
      "name": "python3"
    },
    "language_info": {
      "codemirror_mode": {
        "name": "ipython",
        "version": 3
      },
      "file_extension": ".py",
      "mimetype": "text/x-python",
      "name": "python",
      "nbconvert_exporter": "python",
      "pygments_lexer": "ipython3",
      "version": "3.6.2"
    },
    "colab": {
      "provenance": [],
      "include_colab_link": true
    }
  },
  "nbformat": 4,
  "nbformat_minor": 0
}